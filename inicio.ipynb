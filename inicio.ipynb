{
 "cells": [
  {
   "cell_type": "markdown",
   "metadata": {},
   "source": [
    "# Taller Python\n",
    "\n",
    "Taller de introducción al lenguaje de programación"
   ]
  },
  {
   "cell_type": "code",
   "execution_count": 5,
   "metadata": {},
   "outputs": [
    {
     "name": "stdout",
     "output_type": "stream",
     "text": [
      "29\n"
     ]
    }
   ],
   "source": [
    "# Definición de variables\n",
    "x=29\n",
    "print(x)"
   ]
  },
  {
   "cell_type": "code",
   "execution_count": 7,
   "metadata": {},
   "outputs": [
    {
     "name": "stdout",
     "output_type": "stream",
     "text": [
      "40.9\n"
     ]
    }
   ],
   "source": [
    "# Uso de operadores\n",
    "x = 15\n",
    "y = 25.9\n",
    "z = x + y\n",
    "print(z)"
   ]
  },
  {
   "cell_type": "code",
   "execution_count": 2,
   "metadata": {},
   "outputs": [
    {
     "name": "stdout",
     "output_type": "stream",
     "text": [
      "0\n",
      "0\n",
      "0\n",
      "0 0 0\n",
      "x :  0  y:  0 z:  0\n"
     ]
    }
   ],
   "source": [
    "# Asignación múltiple\n",
    "x = y = z = 0\n",
    "print(x)\n",
    "print(y)\n",
    "print(z)\n",
    "# Si queremos imprimir todas las variables en una misma línea\n",
    "print(x,y,z)\n",
    "# Si queremos combinar \n",
    "print(\"x : \", x, \" y: \", y, \"z: \", z)"
   ]
  },
  {
   "cell_type": "code",
   "execution_count": 2,
   "metadata": {},
   "outputs": [
    {
     "name": "stdout",
     "output_type": "stream",
     "text": [
      "T\n",
      "l\n",
      "Todo\n",
      " lo puedo en Cristo que me fortalece\n",
      "do lo puedo \n",
      "dlpd\n"
     ]
    }
   ],
   "source": [
    "# Manejo de arreglos\n",
    "s = \"Todo lo puedo en Cristo que me fortalece\"\n",
    "print(s[0])\n",
    "print(s[5])\n",
    "print(s[:4])\n",
    "print(s[4:])\n",
    "print(s[2:14])\n",
    "print(s[2:14:3])"
   ]
  },
  {
   "cell_type": "code",
   "execution_count": 12,
   "metadata": {},
   "outputs": [
    {
     "name": "stdout",
     "output_type": "stream",
     "text": [
      "7 es el número mayor\n"
     ]
    }
   ],
   "source": [
    "# Uso de condiciones\n",
    "x = 5\n",
    "y = 7\n",
    "if (x > y):\n",
    "    mayor = x\n",
    "else:\n",
    "    mayor = y\n",
    "print(mayor, 'es el número mayor')"
   ]
  },
  {
   "cell_type": "code",
   "execution_count": 5,
   "metadata": {},
   "outputs": [
    {
     "name": "stdout",
     "output_type": "stream",
     "text": [
      "['S', 't', 'a', 'r', ' ', 'w', 'a', 'r', 's']\n",
      "['S', 't', 'a', 'r', ' ', 'w', 'a', 'r', 's', 29]\n",
      "['S', 't', 'a', 'r', ' ', 'w', 'a', 'r', 's', 29, 1, 2, 3]\n",
      "['S', 't', 'a', 'r', ' ', 'w', 'a', 'r', 's', 29, 1, 2, 3, '.', '.', '.']\n"
     ]
    }
   ],
   "source": [
    "# Uso de listas\n",
    "a = list('Star wars')\n",
    "print(a)\n",
    "a.append(29)\n",
    "print(a)\n",
    "a.extend((1, 2, 3))\n",
    "print(a)\n",
    "a.extend(('...'))\n",
    "print(a)"
   ]
  },
  {
   "cell_type": "code",
   "execution_count": 8,
   "metadata": {},
   "outputs": [
    {
     "name": "stdout",
     "output_type": "stream",
     "text": [
      "Max :  3\n",
      "Min :  30\n",
      "Sum :  73\n",
      "Len :  4\n",
      "[15, 25, 30, 3, 6, 7, 3]\n",
      "[15, 25, 30, 3, 15, 25, 30, 3]\n"
     ]
    }
   ],
   "source": [
    "# Operaciones sobre listas\n",
    "a = [15,25,30,3]\n",
    "print('Max : ', min(a))\n",
    "print('Min : ', max(a))\n",
    "print('Sum : ', sum(a))\n",
    "print('Len : ', len(a))\n",
    "b = [6,7,3]\n",
    "print(a+b)\n",
    "print(a*2)"
   ]
  },
  {
   "cell_type": "code",
   "execution_count": 6,
   "metadata": {},
   "outputs": [
    {
     "name": "stdout",
     "output_type": "stream",
     "text": [
      "{'manzana': 450, 'arandano': 2500, 'frutilla': 980, 'naranja': 750}\n",
      "manzana 3150\n",
      "arandano 17500\n",
      "frutilla 6860\n",
      "naranja 5250\n"
     ]
    }
   ],
   "source": [
    "# Uso de diccionario\n",
    "frutas = dict()\n",
    "frutas={'manzana':450, 'arandano':2500, 'frutilla':980, 'naranja':750}\n",
    "print(frutas)\n",
    "for fruta, precio in frutas.items():\n",
    "    print(fruta,precio*7)"
   ]
  }
 ],
 "metadata": {
  "kernelspec": {
   "display_name": "Python 3",
   "language": "python",
   "name": "python3"
  },
  "language_info": {
   "codemirror_mode": {
    "name": "ipython",
    "version": 3
   },
   "file_extension": ".py",
   "mimetype": "text/x-python",
   "name": "python",
   "nbconvert_exporter": "python",
   "pygments_lexer": "ipython3",
   "version": "3.6.3"
  }
 },
 "nbformat": 4,
 "nbformat_minor": 2
}

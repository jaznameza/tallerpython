{
 "cells": [
  {
   "cell_type": "markdown",
   "metadata": {},
   "source": [
    "# Taller Python\n",
    "\n",
    "Taller de introducción al lenguaje de programación"
   ]
  },
  {
   "cell_type": "code",
   "execution_count": 5,
   "metadata": {},
   "outputs": [
    {
     "name": "stdout",
     "output_type": "stream",
     "text": [
      "29\n"
     ]
    }
   ],
   "source": [
    "# Definición de variables\n",
    "x=29\n",
    "print(x)"
   ]
  },
  {
   "cell_type": "code",
   "execution_count": 7,
   "metadata": {},
   "outputs": [
    {
     "name": "stdout",
     "output_type": "stream",
     "text": [
      "40.9\n"
     ]
    }
   ],
   "source": [
    "# Uso de operadores\n",
    "x = 15\n",
    "y = 25.9\n",
    "z = x + y\n",
    "print(z)"
   ]
  },
  {
   "cell_type": "code",
   "execution_count": 6,
   "metadata": {},
   "outputs": [
    {
     "name": "stdout",
     "output_type": "stream",
     "text": [
      "{'manzana': 450, 'arandano': 2500, 'frutilla': 980, 'naranja': 750}\n",
      "manzana 3150\n",
      "arandano 17500\n",
      "frutilla 6860\n",
      "naranja 5250\n"
     ]
    }
   ],
   "source": [
    "# Uso de diccionario\n",
    "frutas = dict()\n",
    "frutas={'manzana':450, 'arandano':2500, 'frutilla':980, 'naranja':750}\n",
    "print(frutas)\n",
    "for fruta, precio in frutas.items():\n",
    "    print(fruta,precio*7)"
   ]
  }
 ],
 "metadata": {
  "kernelspec": {
   "display_name": "Python 3",
   "language": "python",
   "name": "python3"
  },
  "language_info": {
   "codemirror_mode": {
    "name": "ipython",
    "version": 3
   },
   "file_extension": ".py",
   "mimetype": "text/x-python",
   "name": "python",
   "nbconvert_exporter": "python",
   "pygments_lexer": "ipython3",
   "version": "3.6.3"
  }
 },
 "nbformat": 4,
 "nbformat_minor": 2
}

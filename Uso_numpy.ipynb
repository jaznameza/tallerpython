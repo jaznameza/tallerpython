{
 "cells": [
  {
   "cell_type": "code",
   "execution_count": 7,
   "metadata": {},
   "outputs": [
    {
     "name": "stdout",
     "output_type": "stream",
     "text": [
      "[[ 0.  0.  0.  0.  0.  0.  0.]\n",
      " [ 0.  0.  0.  0.  0.  0.  0.]\n",
      " [ 0.  0.  0.  0.  0.  0.  0.]\n",
      " [ 0.  0.  0.  0.  0.  0.  0.]\n",
      " [ 0.  0.  0.  0.  0.  0.  0.]\n",
      " [ 0.  0.  0.  0.  0.  0.  0.]\n",
      " [ 0.  0.  0.  0.  0.  0.  0.]\n",
      " [ 0.  0.  0.  0.  0.  0.  0.]\n",
      " [ 0.  0.  0.  0.  0.  0.  0.]]\n",
      "[0.5, 0.5, 0.5, 0.5, 0.5, 0.5, 0.5, 0.5, 0.7]\n",
      "[[ 0.   0.   0.   0.5  1.   1.   1. ]\n",
      " [ 0.   0.   0.   0.5  1.   1.   1. ]\n",
      " [ 0.   0.   0.   0.5  1.   1.   1. ]\n",
      " [ 0.   0.   0.   0.5  1.   1.   1. ]\n",
      " [ 0.   0.   0.   0.5  1.   1.   1. ]\n",
      " [ 0.   0.   0.   0.5  1.   1.   1. ]\n",
      " [ 0.   0.   0.   0.5  1.   1.   1. ]\n",
      " [ 0.   0.   0.   0.5  1.   1.   1. ]\n",
      " [ 0.   0.   0.   0.7  1.   1.   1. ]]\n",
      "[[ 1.  1.  1.]\n",
      " [ 1.  1.  1.]\n",
      " [ 1.  1.  1.]\n",
      " [ 1.  1.  1.]\n",
      " [ 1.  1.  1.]\n",
      " [ 1.  1.  1.]\n",
      " [ 1.  1.  1.]]\n",
      "Suma de la última fila :  3.7\n",
      "[[ 0.81244235  0.43976273  0.70900616  0.2865831   0.02578929]\n",
      " [ 0.89831364  0.40276155  0.78928222  0.02248522  0.60319595]\n",
      " [ 0.91513728  0.48508321  0.56947669  0.37301015  0.92306591]\n",
      " [ 0.06066466  0.72278947  0.82570097  0.63317511  0.49075489]\n",
      " [ 0.33703795  0.58368152  0.75722377  0.4892009   0.95528402]]\n",
      "[[ True False  True False False]\n",
      " [ True False  True False  True]\n",
      " [ True False  True False  True]\n",
      " [False  True  True  True False]\n",
      " [False  True  True False  True]]\n",
      "0 0\n",
      "0 2\n",
      "1 0\n",
      "1 2\n",
      "1 4\n",
      "2 0\n",
      "2 2\n",
      "2 4\n",
      "3 1\n",
      "3 2\n",
      "3 3\n",
      "4 1\n",
      "4 2\n",
      "4 4\n"
     ]
    }
   ],
   "source": [
    "\"\"\"\n",
    "Cree una matriz de 7 columnas por 9 filas. Las primeras 3 columnas de la matriz tienen que \n",
    "tener el valor 0. La cuarta columna debe tener el valor 0.5, excepto por el último valor de \n",
    "esa columna, que tiene que ser 0.7. Las otras tres columnas deben tener el valor 1.\n",
    "Imprima la matriz y calcule las suma de los elementos de la última fila\n",
    "\"\"\"\n",
    "import numpy as np\n",
    "m = np.zeros([9,7])\n",
    "print(m)\n",
    "a=[0.5]\n",
    "a=a*8\n",
    "a.append(0.7)\n",
    "print(a)\n",
    "\n",
    "for i in range(0,9):\n",
    "    m[i,3] = a[i]\n",
    "    for j in range(4,7):\n",
    "        m[i,j] = 1\n",
    "print(m)\n",
    "mx = np.ones([7,3])\n",
    "print(mx)\n",
    "# Suma de los elementos de la última fila\n",
    "print(\"Suma de la última fila : \", np.sum(m,axis=1)[8])\n",
    "\n",
    "\"\"\"\n",
    "La siguiente instrucción crea una matriz aleatoria de 5 por 5 con valores entre 0 y 1 \n",
    "matriz_aleatoria=np.random.rand(5,5)\n",
    "Imprima las posiciones (Fila y columna) de los elementos de la matriz que son mayores que 0.5\n",
    "\"\"\"\n",
    "\n",
    "matriz_aleatoria=np.random.rand(5,5)\n",
    "print(matriz_aleatoria)\n",
    "mascara = matriz_aleatoria > 0.5\n",
    "print(mascara)\n",
    "for fila in range(0,5):\n",
    "    for columna in range(0,5):\n",
    "        if(mascara[fila,columna]): print(fila,columna)"
   ]
  },
  {
   "cell_type": "code",
   "execution_count": null,
   "metadata": {
    "collapsed": true
   },
   "outputs": [],
   "source": []
  }
 ],
 "metadata": {
  "kernelspec": {
   "display_name": "Python 3",
   "language": "python",
   "name": "python3"
  },
  "language_info": {
   "codemirror_mode": {
    "name": "ipython",
    "version": 3
   },
   "file_extension": ".py",
   "mimetype": "text/x-python",
   "name": "python",
   "nbconvert_exporter": "python",
   "pygments_lexer": "ipython3",
   "version": "3.6.3"
  }
 },
 "nbformat": 4,
 "nbformat_minor": 2
}

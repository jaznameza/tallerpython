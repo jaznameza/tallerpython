{
 "cells": [
  {
   "cell_type": "code",
   "execution_count": 1,
   "metadata": {},
   "outputs": [
    {
     "name": "stdout",
     "output_type": "stream",
     "text": [
      "1-2-3-4-5-6-7-8-9-10-11-12-13-14-15-16-17-18-19-20-21-22-23-24-25-26-27-28-29-30-31-32-33-34-35-36-37-38-39-40-41-42-43-44-45-46-47-48-49-50\n",
      "1-2-3-4-5-6-7-8-9-10-11-12-13-14-15-16-17-18-19-20-21-22-23-24-25-26-27-28-29-30-31-32-33-34-35-36-37-38-39-40-41-42-43-44-45-46-47-48-49-50\n",
      ": +56 22 3547451\n",
      ": +56 22 3547451\n"
     ]
    }
   ],
   "source": [
    "\"\"\"\n",
    "Cree una variable x que contenga una lista de números enteros consecutivos entre el 1 y el 50 \n",
    "(es decir 1,2,3,...,49,50). Use la funcion str() y sus métodos para crear un string que \n",
    "corresponda a la unión de los valores de la lista x y que se use el símbolo - para unir los \n",
    "números (es decir queremos obtener un string tipo '1-2-3-....-49-50').\n",
    "\"\"\"\n",
    "c=list()\n",
    "for i in range(1,51):\n",
    "    c.append(str(i))\n",
    "y = \"-\".join(c)\n",
    "print(y)\n",
    "\n",
    "# Usando map para no crear la lista\n",
    "c=map(str,range(1,51))\n",
    "y = \"-\".join(c)\n",
    "print(y)\n",
    "\n",
    "\"\"\"\n",
    "En el laboratorio usamos una raspberry que interactúa con un dispositivo GSM para recibir y \n",
    "generar llamadas usando la la red de celular. Cada vez que se recibe una llamada, el raspberry \n",
    "recibe las siguiente mensajería contenida en la variable mensaje.\n",
    "Escriba un código de python que permita recorrer la lista y que obtenga el número telefónico \n",
    "que aparece justo después de la palabra +CLIP\n",
    "\"\"\"\n",
    "mensaje = [\"\", \"RING\", \"\", \"\", \"\",\"+CLIP: \"\"+56 22 3547451\"\",161,\"\"\"\",0,\"\"\"\",0\"]\n",
    "numero=mensaje[5]\n",
    "print(numero[numero.find(\":\"):numero.find(\",\")])\n",
    "\n",
    "# Otra forma para no dejar el índice fijo sería\n",
    "indice = -1\n",
    "for s in mensaje:\n",
    "    if s.find(\"CLIP\"):\n",
    "        indice = mensaje.index(s)\n",
    "if (indice != -1):\n",
    "    numero=mensaje[indice]\n",
    "    print(numero[numero.find(\":\"):numero.find(\",\")])\n"
   ]
  },
  {
   "cell_type": "code",
   "execution_count": null,
   "metadata": {
    "collapsed": true
   },
   "outputs": [],
   "source": []
  }
 ],
 "metadata": {
  "kernelspec": {
   "display_name": "Python 3",
   "language": "python",
   "name": "python3"
  },
  "language_info": {
   "codemirror_mode": {
    "name": "ipython",
    "version": 3
   },
   "file_extension": ".py",
   "mimetype": "text/x-python",
   "name": "python",
   "nbconvert_exporter": "python",
   "pygments_lexer": "ipython3",
   "version": "3.6.3"
  }
 },
 "nbformat": 4,
 "nbformat_minor": 2
}

{
 "cells": [
  {
   "cell_type": "code",
   "execution_count": 2,
   "metadata": {},
   "outputs": [
    {
     "name": "stdout",
     "output_type": "stream",
     "text": [
      "Suma con 10 iteraciones 55\n"
     ]
    }
   ],
   "source": [
    "# Uso de ciclo while\n",
    "suma = 0\n",
    "i = 1\n",
    "while i <= 10:\n",
    "    suma = suma + i\n",
    "    i=i+1\n",
    "print('Suma con 10 iteraciones', suma)"
   ]
  },
  {
   "cell_type": "code",
   "execution_count": 4,
   "metadata": {},
   "outputs": [
    {
     "name": "stdout",
     "output_type": "stream",
     "text": [
      "Suma con 10 iteraciones 55\n"
     ]
    }
   ],
   "source": [
    "# Uso de ciclo for\n",
    "suma = 0\n",
    "for i in range(1,11):\n",
    "    suma = suma + i\n",
    "print('Suma con 10 iteraciones', suma)"
   ]
  },
  {
   "cell_type": "code",
   "execution_count": 11,
   "metadata": {},
   "outputs": [
    {
     "name": "stdout",
     "output_type": "stream",
     "text": [
      "Felipe 25\n",
      "Pablo 30\n",
      "Diego 31\n",
      "Julieta 39\n"
     ]
    }
   ],
   "source": [
    "personas = ['Felipe', 'Pablo', 'Diego', 'Julieta'] \n",
    "edades = [25, 30, 31, 39]\n",
    "posicion = 0\n",
    "while posicion < len(personas):\n",
    "    persona = personas[posicion] \n",
    "    edad = edades[posicion] \n",
    "    print(persona, edad) \n",
    "    posicion += 1"
   ]
  },
  {
   "cell_type": "code",
   "execution_count": 10,
   "metadata": {},
   "outputs": [
    {
     "name": "stdout",
     "output_type": "stream",
     "text": [
      "{'Felipe': 12, 'Pablo': 10, 'Diego': 8, 'Julieta': 6}\n",
      "Felipe 12\n",
      "Pablo 10\n",
      "Diego 8\n",
      "Julieta 6\n"
     ]
    }
   ],
   "source": [
    "# Resuelve el ejercicio anterior usando diccionario\n",
    "personas = dict()\n",
    "personas={'Felipe':12, 'Pablo':10, 'Diego':8, 'Julieta':6}\n",
    "print(personas)\n",
    "for persona, edad in personas.items():\n",
    "    print(persona, edad)"
   ]
  },
  {
   "cell_type": "code",
   "execution_count": 5,
   "metadata": {},
   "outputs": [
    {
     "name": "stdout",
     "output_type": "stream",
     "text": [
      "Suma de los primos :  130\n"
     ]
    }
   ],
   "source": [
    "# Sumar los números primos entre 1 y 30\n",
    "suma = 0\n",
    "i = 1\n",
    "while i <= 30:\n",
    "    divisores = False\n",
    "    x = 2\n",
    "    while x <= i/2:\n",
    "        if(i % x ==0):\n",
    "            divisores = True\n",
    "            break\n",
    "        x = x + 1\n",
    "    if (not divisores):\n",
    "        suma = suma + i\n",
    "    i = i + 1\n",
    "print('Suma de los primos : ', suma)"
   ]
  },
  {
   "cell_type": "code",
   "execution_count": null,
   "metadata": {
    "collapsed": true
   },
   "outputs": [],
   "source": [
    "# Uso de listas y ciclos\n",
    "x = 3.141592\n",
    "y=4\n",
    "print(x < y)\n",
    "z = x**y\n",
    "print(z)\n",
    "\n",
    "a=[x]\n",
    "a=a*30\n",
    "print(a)\n",
    "\n",
    "b=range(0,30)\n",
    "for i in b:\n",
    "    print(i)\n",
    "c=list(b)\n",
    "print(c)\n",
    "\n",
    "d=a\n",
    "print(d)\n",
    "indice = 0\n",
    "for x_c in c:\n",
    "    d[indice] = d[indice] + x_c\n",
    "    indice=indice+1\n",
    "print(d)"
   ]
  }
 ],
 "metadata": {
  "kernelspec": {
   "display_name": "Python 3",
   "language": "python",
   "name": "python3"
  },
  "language_info": {
   "codemirror_mode": {
    "name": "ipython",
    "version": 3
   },
   "file_extension": ".py",
   "mimetype": "text/x-python",
   "name": "python",
   "nbconvert_exporter": "python",
   "pygments_lexer": "ipython3",
   "version": "3.6.3"
  }
 },
 "nbformat": 4,
 "nbformat_minor": 2
}
